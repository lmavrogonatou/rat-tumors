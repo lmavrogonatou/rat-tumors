{
 "cells": [
  {
   "cell_type": "markdown",
   "metadata": {},
   "source": [
    "# Modular version of rat tumors code\n",
    "\n",
    "This is a modularized version of the rat tumor analysis, factored into reusable functions."
   ]
  },
  {
   "cell_type": "markdown",
   "metadata": {},
   "source": [
    "## Setup\n",
    "\n",
    "Grab packages"
   ]
  },
  {
   "cell_type": "code",
   "execution_count": 1,
   "metadata": {
    "collapsed": false
   },
   "outputs": [
    {
     "name": "stderr",
     "output_type": "stream",
     "text": [
      "\n",
      "Attaching package: 'dplyr'\n",
      "\n",
      "The following objects are masked from 'package:plyr':\n",
      "\n",
      "    arrange, count, desc, failwith, id, mutate, rename, summarise,\n",
      "    summarize\n",
      "\n",
      "The following objects are masked from 'package:stats':\n",
      "\n",
      "    filter, lag\n",
      "\n",
      "The following objects are masked from 'package:base':\n",
      "\n",
      "    intersect, setdiff, setequal, union\n",
      "\n"
     ]
    }
   ],
   "source": [
    "library(ggplot2)\n",
    "library(plyr)\n",
    "library(dplyr)"
   ]
  },
  {
   "cell_type": "code",
   "execution_count": 2,
   "metadata": {
    "collapsed": false
   },
   "outputs": [
    {
     "name": "stderr",
     "output_type": "stream",
     "text": [
      "Loading required package: foreach\n",
      "Loading required package: iterators\n",
      "Loading required package: parallel\n"
     ]
    }
   ],
   "source": [
    "library(doParallel)\n",
    "registerDoParallel()"
   ]
  },
  {
   "cell_type": "markdown",
   "metadata": {},
   "source": [
    "Set options"
   ]
  },
  {
   "cell_type": "code",
   "execution_count": 3,
   "metadata": {
    "collapsed": true
   },
   "outputs": [],
   "source": [
    "options(repr.matrix.max.rows = 20)"
   ]
  },
  {
   "cell_type": "markdown",
   "metadata": {},
   "source": [
    "Load the data:"
   ]
  },
  {
   "cell_type": "code",
   "execution_count": 4,
   "metadata": {
    "collapsed": false
   },
   "outputs": [
    {
     "data": {
      "text/plain": [
       "    Infected          Total      \n",
       " Min.   : 0.000   Min.   :10.00  \n",
       " 1st Qu.: 1.000   1st Qu.:19.00  \n",
       " Median : 3.000   Median :20.00  \n",
       " Mean   : 3.761   Mean   :24.49  \n",
       " 3rd Qu.: 5.000   3rd Qu.:22.50  \n",
       " Max.   :16.000   Max.   :52.00  "
      ]
     },
     "metadata": {},
     "output_type": "display_data"
    }
   ],
   "source": [
    "rat.data = read.csv(\"rats.csv\")\n",
    "summary(rat.data)"
   ]
  },
  {
   "cell_type": "code",
   "execution_count": 5,
   "metadata": {
    "collapsed": false
   },
   "outputs": [
    {
     "data": {
      "text/html": [
       "<table>\n",
       "<thead><tr><th></th><th scope=col>Infected</th><th scope=col>Total</th></tr></thead>\n",
       "<tbody>\n",
       "\t<tr><th scope=row>1</th><td>0 </td><td>20</td></tr>\n",
       "\t<tr><th scope=row>2</th><td>0 </td><td>20</td></tr>\n",
       "\t<tr><th scope=row>3</th><td>0 </td><td>20</td></tr>\n",
       "\t<tr><th scope=row>4</th><td>0 </td><td>20</td></tr>\n",
       "\t<tr><th scope=row>5</th><td>0 </td><td>20</td></tr>\n",
       "\t<tr><th scope=row>6</th><td>0 </td><td>20</td></tr>\n",
       "\t<tr><th scope=row>7</th><td>0 </td><td>20</td></tr>\n",
       "\t<tr><th scope=row>8</th><td>0 </td><td>19</td></tr>\n",
       "\t<tr><th scope=row>9</th><td>0 </td><td>19</td></tr>\n",
       "\t<tr><th scope=row>10</th><td>0 </td><td>19</td></tr>\n",
       "\t<tr><th scope=row>...</th><td>...</td><td>...</td></tr>\n",
       "\t<tr><th scope=row>62</th><td>5 </td><td>19</td></tr>\n",
       "\t<tr><th scope=row>63</th><td>6 </td><td>22</td></tr>\n",
       "\t<tr><th scope=row>64</th><td>6 </td><td>20</td></tr>\n",
       "\t<tr><th scope=row>65</th><td>6 </td><td>20</td></tr>\n",
       "\t<tr><th scope=row>66</th><td>6 </td><td>20</td></tr>\n",
       "\t<tr><th scope=row>67</th><td>16</td><td>52</td></tr>\n",
       "\t<tr><th scope=row>68</th><td>15</td><td>46</td></tr>\n",
       "\t<tr><th scope=row>69</th><td>15</td><td>47</td></tr>\n",
       "\t<tr><th scope=row>70</th><td>9 </td><td>24</td></tr>\n",
       "\t<tr><th scope=row>71</th><td>4 </td><td>14</td></tr>\n",
       "</tbody>\n",
       "</table>\n"
      ],
      "text/latex": [
       "\\begin{tabular}{r|ll}\n",
       "  & Infected & Total\\\\\n",
       "\\hline\n",
       "\t1 & 0  & 20\\\\\n",
       "\t2 & 0  & 20\\\\\n",
       "\t3 & 0  & 20\\\\\n",
       "\t4 & 0  & 20\\\\\n",
       "\t5 & 0  & 20\\\\\n",
       "\t6 & 0  & 20\\\\\n",
       "\t7 & 0  & 20\\\\\n",
       "\t8 & 0  & 19\\\\\n",
       "\t9 & 0  & 19\\\\\n",
       "\t10 & 0  & 19\\\\\n",
       "\t... & ... & ...\\\\\n",
       "\t62 & 5  & 19\\\\\n",
       "\t63 & 6  & 22\\\\\n",
       "\t64 & 6  & 20\\\\\n",
       "\t65 & 6  & 20\\\\\n",
       "\t66 & 6  & 20\\\\\n",
       "\t67 & 16 & 52\\\\\n",
       "\t68 & 15 & 46\\\\\n",
       "\t69 & 15 & 47\\\\\n",
       "\t70 & 9  & 24\\\\\n",
       "\t71 & 4  & 14\\\\\n",
       "\\end{tabular}\n"
      ],
      "text/plain": [
       "    Infected Total\n",
       "1          0    20\n",
       "2          0    20\n",
       "3          0    20\n",
       "4          0    20\n",
       "5          0    20\n",
       "6          0    20\n",
       "7          0    20\n",
       "8          0    19\n",
       "9          0    19\n",
       "10         0    19\n",
       "...      ...   ...\n",
       "62         5    19\n",
       "63         6    22\n",
       "64         6    20\n",
       "65         6    20\n",
       "66         6    20\n",
       "67        16    52\n",
       "68        15    46\n",
       "69        15    47\n",
       "70         9    24\n",
       "71         4    14"
      ]
     },
     "metadata": {},
     "output_type": "display_data"
    }
   ],
   "source": [
    "rat.data"
   ]
  },
  {
   "cell_type": "markdown",
   "metadata": {},
   "source": [
    "## The Model\n",
    "\n",
    "In this data set, for each experiment $j$, we have two observations: $c_j$, the number of infected rats, and $n_j$, the number of rats.\n",
    "\n",
    "We model the data as having an infection rate $\\theta_j$ for each experiment.  We want to make inferences about the distribution of $\\theta_j$.\n",
    "\n",
    "In more detail, we use the following model:\n",
    "\n",
    "- $c_j \\sim \\mathrm{Bin}(n_j,\\theta_j)$\n",
    "- $\\theta_j \\sim \\mathrm{Beta}(\\alpha, \\beta)$\n",
    "\n",
    "For the purposes of notational simplicity theorem, we parameterize our model parameters as $\\phi = (\\alpha, \\beta)$.\n",
    "\n",
    "Therefore, we have the goal of computing $P(\\phi,\\mathbf{\\theta}|\\mathbf{c})$ given $\\mathbf{c}$ and our model / likelihood function $P(\\mathbf{c},\\mathbf{\\theta}|\\phi) = \\prod_j P(c_j,\\theta_j|\\phi_j) = \\prod_j P(c_j|\\theta_j)P(\\theta_j|\\phi_j)$.\n",
    "\n",
    "The final derivation, as per Eq. 5.8 in Gelman et al., is \n",
    "\n",
    "$$P(\\alpha, \\beta|\\mathrm{y}) \\propto P(\\alpha, \\beta) \\prod_j \\frac{\\Gamma(\\alpha+\\beta)}{\\Gamma(\\alpha)\\Gamma(\\beta)} \\frac{\\Gamma(\\alpha + c_j)\\Gamma(\\beta+n_j-c_j)}{\\Gamma(\\alpha+\\beta+n_j)}$$\n",
    "\n",
    "We will compute this log-transformed."
   ]
  },
  {
   "cell_type": "markdown",
   "metadata": {},
   "source": [
    "So we define the log likelihood function for this model. It will take as input $\\alpha$ and $\\beta$ vectors (which should be the same length), and return the log likelihood of each $(\\alpha, \\beta)$ value given the $\\mathbf{c}$ and $\\mathbf{n}$ vectors:"
   ]
  },
  {
   "cell_type": "code",
   "execution_count": 6,
   "metadata": {
    "collapsed": true
   },
   "outputs": [],
   "source": [
    "model.loglike = function(alpha, beta, cs, ns) {\n",
    "    base = lgamma(alpha + beta) - lgamma(alpha) - lgamma(beta)\n",
    "    data = mapply(a=alpha, b=beta, FUN=function(a, b) {\n",
    "        sum(lgamma(a + cs) + \n",
    "                lgamma(b + ns - cs) - \n",
    "                lgamma(a + b + ns))\n",
    "    })\n",
    "    nrow(rat.data) * base + data\n",
    "}"
   ]
  },
  {
   "cell_type": "markdown",
   "metadata": {},
   "source": [
    "We're also going to use the diffuse prior from Equation 5.9:\n",
    "\n",
    "$$P(\\alpha, \\beta) \\propto (\\alpha + \\beta)^{-5/2}$$\n",
    "\n",
    "We will not worry about the constant, since we care about *relative* densities."
   ]
  },
  {
   "cell_type": "code",
   "execution_count": 7,
   "metadata": {
    "collapsed": true
   },
   "outputs": [],
   "source": [
    "model.prior = prior = function(alpha, beta) {\n",
    "    (alpha + beta) ^ (-5 / 2)\n",
    "}"
   ]
  },
  {
   "cell_type": "markdown",
   "metadata": {},
   "source": [
    "## Densities in Transformed Space\n",
    "\n",
    "We want to be able to compute and reason about the probability density at various $\\alpha$ and $\\beta$ values. However, raw $\\alpha \\times \\beta$ space is not very convenient, so we will plot instead over $x = \\mathrm{log}(\\frac{\\alpha}{\\beta})$ and $y = \\mathrm{log}(\\alpha + \\beta)$, yielding:\n",
    "\n",
    "$$\\begin{align*}\n",
    "x & = \\mathrm{log}(\\frac{\\alpha}{\\beta}) \\\\\n",
    "y & = \\mathrm{log}(\\alpha + \\beta) \\\\\n",
    "\\alpha & = e^x \\beta \\\\\n",
    "\\beta & = \\frac{e^y}{e^x + 1}\n",
    "\\end{align*}$$"
   ]
  },
  {
   "cell_type": "code",
   "execution_count": 8,
   "metadata": {
    "collapsed": true
   },
   "outputs": [],
   "source": [
    "par.beta = function(x, y) {\n",
    "    exp(y) / (exp(x) + 1)\n",
    "}\n",
    "par.alpha = function(x, y) {\n",
    "    exp(x) * par.beta(x, y)\n",
    "}"
   ]
  },
  {
   "cell_type": "markdown",
   "metadata": {},
   "source": [
    "Given ranges (really, sequences) of $x$ and $y$ values, we want to compute the probability density.  We call this `xydensity` because it is the density at $(x, y)$.  It returns the density at each pair $(x, y)$, taking the Cartesian product of the `x` and `y` vectors. The `counts` and `totals` parameters ($\\mathbf{c}$ and $\\mathbf{n}$) are also vectors, but the value for each $(x,y)$ poitn depends on the entire $\\mathbf{c}$ and $\\mathbf{n}$ vectors."
   ]
  },
  {
   "cell_type": "code",
   "execution_count": 9,
   "metadata": {
    "collapsed": true
   },
   "outputs": [],
   "source": [
    "xydensity = function(x, y, counts, totals, prior=model.prior, loglike=model.loglike) {\n",
    "    expand.grid(x=x, y=y) %>%\n",
    "        mutate(alpha = par.alpha(x, y),\n",
    "               beta = par.beta(x, y)) %>%\n",
    "        mutate(logPrior = log(prior(alpha, beta)),\n",
    "               logLike = loglike(alpha, beta, counts, totals),\n",
    "               rawLogPost = logPrior + logLike) %>%\n",
    "        mutate(logJacobian = log(alpha) + log(beta),\n",
    "               logPost = rawLogPost + logJacobian)\n",
    "}"
   ]
  },
  {
   "cell_type": "markdown",
   "metadata": {},
   "source": [
    "Let's now try it:"
   ]
  },
  {
   "cell_type": "code",
   "execution_count": 10,
   "metadata": {
    "collapsed": false
   },
   "outputs": [
    {
     "data": {
      "text/html": [
       "<table>\n",
       "<thead><tr><th></th><th scope=col>x</th><th scope=col>y</th><th scope=col>alpha</th><th scope=col>beta</th><th scope=col>logPrior</th><th scope=col>logLike</th><th scope=col>rawLogPost</th><th scope=col>logJacobian</th><th scope=col>logPost</th></tr></thead>\n",
       "<tbody>\n",
       "\t<tr><th scope=row>1</th><td>-1.675           </td><td>2.63             </td><td>2.18870772376332 </td><td>11.6850621783666 </td><td>-6.575           </td><td>-731.024260412412</td><td>-737.599260412412</td><td>3.24162257837807 </td><td>-734.357637834034</td></tr>\n",
       "\t<tr><th scope=row>2</th><td>-1.875           </td><td>2.63             </td><td>1.84471527371622 </td><td>12.0290546284137 </td><td>-6.575           </td><td>-730.779266609537</td><td>-737.354266609537</td><td>3.0996498847888  </td><td>-734.254616724749</td></tr>\n",
       "\t<tr><th scope=row>3</th><td>-1.35            </td><td>2.63             </td><td>2.85619816803228 </td><td>11.0175717340976 </td><td>-6.575           </td><td>-739.638530903652</td><td>-746.213530903652</td><td>3.44898285727225 </td><td>-742.76454804638 </td></tr>\n",
       "\t<tr><th scope=row>4</th><td>-1.715           </td><td>2.63             </td><td>2.11597628645393 </td><td>11.757793615676  </td><td>-6.575           </td><td>-730.699526230425</td><td>-737.274526230425</td><td>3.2140326143069  </td><td>-734.060493616118</td></tr>\n",
       "\t<tr><th scope=row>5</th><td>-1.335           </td><td>2.63             </td><td>2.89037117051725 </td><td>10.9833987316127 </td><td>-6.575           </td><td>-740.320135852862</td><td>-746.895135852862</td><td>3.45776985316499 </td><td>-743.437365999697</td></tr>\n",
       "\t<tr><th scope=row>6</th><td>-1.67            </td><td>2.63             </td><td>2.19794060422879 </td><td>11.6758292979011 </td><td>-6.575           </td><td>-731.075179172624</td><td>-737.650179172624</td><td>3.2450416659449  </td><td>-734.405137506679</td></tr>\n",
       "\t<tr><th scope=row>7</th><td>-1.405           </td><td>2.63             </td><td>2.73346405395259 </td><td>11.1403058481773 </td><td>-6.575           </td><td>-737.368164171293</td><td>-743.943164171293</td><td>3.41613937815068 </td><td>-740.527024793142</td></tr>\n",
       "\t<tr><th scope=row>8</th><td>-2.025           </td><td>2.63             </td><td>1.6177227640468  </td><td>12.2560471380831 </td><td>-6.575           </td><td>-732.640071237504</td><td>-739.215071237504</td><td>2.98703891822762 </td><td>-736.228032319277</td></tr>\n",
       "\t<tr><th scope=row>9</th><td>-1.62            </td><td>2.63             </td><td>2.29201435573583 </td><td>11.5817555463941 </td><td>-6.575           </td><td>-731.714221747243</td><td>-738.289221747243</td><td>3.27886212448585 </td><td>-735.010359622757</td></tr>\n",
       "\t<tr><th scope=row>10</th><td>-1.815           </td><td>2.63             </td><td>1.94281219768389 </td><td>11.930957704446  </td><td>-6.575           </td><td>-730.5022825964  </td><td>-737.0772825964  </td><td>3.14327301974811 </td><td>-733.934009576652</td></tr>\n",
       "\t<tr><th scope=row>...</th><td>...</td><td>...</td><td>...</td><td>...</td><td>...</td><td>...</td><td>...</td><td>...</td><td>...</td></tr>\n",
       "\t<tr><th scope=row>9991</th><td>-1.775           </td><td>2.58             </td><td>1.91255079306789 </td><td>11.2845873665905 </td><td>-6.45            </td><td>-730.56779050059 </td><td>-737.01779050059 </td><td>3.07187568966551 </td><td>-733.945914810924</td></tr>\n",
       "\t<tr><th scope=row>9992</th><td>-1.66            </td><td>2.58             </td><td>2.10840114632852 </td><td>11.0887370133298 </td><td>-6.45            </td><td>-731.22606050511 </td><td>-737.67606050511 </td><td>3.15185981938941 </td><td>-734.524200685721</td></tr>\n",
       "\t<tr><th scope=row>9993</th><td>-1.39            </td><td>2.58             </td><td>2.63161171723944 </td><td>10.5655264424189 </td><td>-6.45            </td><td>-737.767005536611</td><td>-744.217005536611</td><td>3.32519295747032 </td><td>-740.891812579141</td></tr>\n",
       "\t<tr><th scope=row>9994</th><td>-1.33            </td><td>2.58             </td><td>2.76030504010324 </td><td>10.4368331195551 </td><td>-6.45            </td><td>-740.292258363116</td><td>-746.742258363116</td><td>3.36068239079702 </td><td>-743.381575972319</td></tr>\n",
       "\t<tr><th scope=row>9995</th><td>-1.505           </td><td>2.58             </td><td>2.39766893261057 </td><td>10.7994692270478 </td><td>-6.45            </td><td>-734.058703477338</td><td>-740.508703477338</td><td>3.25399397455753 </td><td>-737.25470950278 </td></tr>\n",
       "\t<tr><th scope=row>9996</th><td>-1.475           </td><td>2.58             </td><td>2.45709369991026 </td><td>10.7400444597481 </td><td>-6.45            </td><td>-734.887687190772</td><td>-741.337687190772</td><td>3.272958457427   </td><td>-738.064728733345</td></tr>\n",
       "\t<tr><th scope=row>9997</th><td>-1.83            </td><td>2.58             </td><td>1.82434959001    </td><td>11.3727885696484 </td><td>-6.45            </td><td>-730.646612123931</td><td>-737.096612123931</td><td>3.03244706895434 </td><td>-734.064165054976</td></tr>\n",
       "\t<tr><th scope=row>9998</th><td>-1.95            </td><td>2.58             </td><td>1.64374787624875 </td><td>11.5533902834096 </td><td>-6.45            </td><td>-731.622882173255</td><td>-738.072882173255</td><td>2.94395784985427 </td><td>-735.128924323401</td></tr>\n",
       "\t<tr><th scope=row>9999</th><td>-1.645           </td><td>2.58             </td><td>2.13511033930273 </td><td>11.0620278203556 </td><td>-6.45            </td><td>-731.398854206296</td><td>-737.848854206296</td><td>3.1620366530348  </td><td>-734.686817553261</td></tr>\n",
       "\t<tr><th scope=row>10000</th><td>-2.13            </td><td>2.58             </td><td>1.40173391976425 </td><td>11.7954042398941 </td><td>-6.45            </td><td>-734.915626635122</td><td>-741.365626635122</td><td>2.8054199688252  </td><td>-738.560206666297</td></tr>\n",
       "</tbody>\n",
       "</table>\n"
      ],
      "text/latex": [
       "\\begin{tabular}{r|lllllllll}\n",
       "  & x & y & alpha & beta & logPrior & logLike & rawLogPost & logJacobian & logPost\\\\\n",
       "\\hline\n",
       "\t1 & -1.675            & 2.63              & 2.18870772376332  & 11.6850621783666  & -6.575            & -731.024260412412 & -737.599260412412 & 3.24162257837807  & -734.357637834034\\\\\n",
       "\t2 & -1.875            & 2.63              & 1.84471527371622  & 12.0290546284137  & -6.575            & -730.779266609537 & -737.354266609537 & 3.0996498847888   & -734.254616724749\\\\\n",
       "\t3 & -1.35             & 2.63              & 2.85619816803228  & 11.0175717340976  & -6.575            & -739.638530903652 & -746.213530903652 & 3.44898285727225  & -742.76454804638 \\\\\n",
       "\t4 & -1.715            & 2.63              & 2.11597628645393  & 11.757793615676   & -6.575            & -730.699526230425 & -737.274526230425 & 3.2140326143069   & -734.060493616118\\\\\n",
       "\t5 & -1.335            & 2.63              & 2.89037117051725  & 10.9833987316127  & -6.575            & -740.320135852862 & -746.895135852862 & 3.45776985316499  & -743.437365999697\\\\\n",
       "\t6 & -1.67             & 2.63              & 2.19794060422879  & 11.6758292979011  & -6.575            & -731.075179172624 & -737.650179172624 & 3.2450416659449   & -734.405137506679\\\\\n",
       "\t7 & -1.405            & 2.63              & 2.73346405395259  & 11.1403058481773  & -6.575            & -737.368164171293 & -743.943164171293 & 3.41613937815068  & -740.527024793142\\\\\n",
       "\t8 & -2.025            & 2.63              & 1.6177227640468   & 12.2560471380831  & -6.575            & -732.640071237504 & -739.215071237504 & 2.98703891822762  & -736.228032319277\\\\\n",
       "\t9 & -1.62             & 2.63              & 2.29201435573583  & 11.5817555463941  & -6.575            & -731.714221747243 & -738.289221747243 & 3.27886212448585  & -735.010359622757\\\\\n",
       "\t10 & -1.815            & 2.63              & 1.94281219768389  & 11.930957704446   & -6.575            & -730.5022825964   & -737.0772825964   & 3.14327301974811  & -733.934009576652\\\\\n",
       "\t... & ... & ... & ... & ... & ... & ... & ... & ... & ...\\\\\n",
       "\t9991 & -1.775            & 2.58              & 1.91255079306789  & 11.2845873665905  & -6.45             & -730.56779050059  & -737.01779050059  & 3.07187568966551  & -733.945914810924\\\\\n",
       "\t9992 & -1.66             & 2.58              & 2.10840114632852  & 11.0887370133298  & -6.45             & -731.22606050511  & -737.67606050511  & 3.15185981938941  & -734.524200685721\\\\\n",
       "\t9993 & -1.39             & 2.58              & 2.63161171723944  & 10.5655264424189  & -6.45             & -737.767005536611 & -744.217005536611 & 3.32519295747032  & -740.891812579141\\\\\n",
       "\t9994 & -1.33             & 2.58              & 2.76030504010324  & 10.4368331195551  & -6.45             & -740.292258363116 & -746.742258363116 & 3.36068239079702  & -743.381575972319\\\\\n",
       "\t9995 & -1.505            & 2.58              & 2.39766893261057  & 10.7994692270478  & -6.45             & -734.058703477338 & -740.508703477338 & 3.25399397455753  & -737.25470950278 \\\\\n",
       "\t9996 & -1.475            & 2.58              & 2.45709369991026  & 10.7400444597481  & -6.45             & -734.887687190772 & -741.337687190772 & 3.272958457427    & -738.064728733345\\\\\n",
       "\t9997 & -1.83             & 2.58              & 1.82434959001     & 11.3727885696484  & -6.45             & -730.646612123931 & -737.096612123931 & 3.03244706895434  & -734.064165054976\\\\\n",
       "\t9998 & -1.95             & 2.58              & 1.64374787624875  & 11.5533902834096  & -6.45             & -731.622882173255 & -738.072882173255 & 2.94395784985427  & -735.128924323401\\\\\n",
       "\t9999 & -1.645            & 2.58              & 2.13511033930273  & 11.0620278203556  & -6.45             & -731.398854206296 & -737.848854206296 & 3.1620366530348   & -734.686817553261\\\\\n",
       "\t10000 & -2.13             & 2.58              & 1.40173391976425  & 11.7954042398941  & -6.45             & -734.915626635122 & -741.365626635122 & 2.8054199688252   & -738.560206666297\\\\\n",
       "\\end{tabular}\n"
      ],
      "text/plain": [
       "           x    y            alpha             beta logPrior           logLike\n",
       "1     -1.675 2.63 2.18870772376332 11.6850621783666   -6.575 -731.024260412412\n",
       "2     -1.875 2.63 1.84471527371622 12.0290546284137   -6.575 -730.779266609537\n",
       "3      -1.35 2.63 2.85619816803228 11.0175717340976   -6.575 -739.638530903652\n",
       "4     -1.715 2.63 2.11597628645393  11.757793615676   -6.575 -730.699526230425\n",
       "5     -1.335 2.63 2.89037117051725 10.9833987316127   -6.575 -740.320135852862\n",
       "6      -1.67 2.63 2.19794060422879 11.6758292979011   -6.575 -731.075179172624\n",
       "7     -1.405 2.63 2.73346405395259 11.1403058481773   -6.575 -737.368164171293\n",
       "8     -2.025 2.63  1.6177227640468 12.2560471380831   -6.575 -732.640071237504\n",
       "9      -1.62 2.63 2.29201435573583 11.5817555463941   -6.575 -731.714221747243\n",
       "10    -1.815 2.63 1.94281219768389  11.930957704446   -6.575   -730.5022825964\n",
       "...      ...  ...              ...              ...      ...               ...\n",
       "9991  -1.775 2.58 1.91255079306789 11.2845873665905    -6.45  -730.56779050059\n",
       "9992   -1.66 2.58 2.10840114632852 11.0887370133298    -6.45  -731.22606050511\n",
       "9993   -1.39 2.58 2.63161171723944 10.5655264424189    -6.45 -737.767005536611\n",
       "9994   -1.33 2.58 2.76030504010324 10.4368331195551    -6.45 -740.292258363116\n",
       "9995  -1.505 2.58 2.39766893261057 10.7994692270478    -6.45 -734.058703477338\n",
       "9996  -1.475 2.58 2.45709369991026 10.7400444597481    -6.45 -734.887687190772\n",
       "9997   -1.83 2.58    1.82434959001 11.3727885696484    -6.45 -730.646612123931\n",
       "9998   -1.95 2.58 1.64374787624875 11.5533902834096    -6.45 -731.622882173255\n",
       "9999  -1.645 2.58 2.13511033930273 11.0620278203556    -6.45 -731.398854206296\n",
       "10000  -2.13 2.58 1.40173391976425 11.7954042398941    -6.45 -734.915626635122\n",
       "             rawLogPost      logJacobian           logPost\n",
       "1     -737.599260412412 3.24162257837807 -734.357637834034\n",
       "2     -737.354266609537  3.0996498847888 -734.254616724749\n",
       "3     -746.213530903652 3.44898285727225  -742.76454804638\n",
       "4     -737.274526230425  3.2140326143069 -734.060493616118\n",
       "5     -746.895135852862 3.45776985316499 -743.437365999697\n",
       "6     -737.650179172624  3.2450416659449 -734.405137506679\n",
       "7     -743.943164171293 3.41613937815068 -740.527024793142\n",
       "8     -739.215071237504 2.98703891822762 -736.228032319277\n",
       "9     -738.289221747243 3.27886212448585 -735.010359622757\n",
       "10      -737.0772825964 3.14327301974811 -733.934009576652\n",
       "...                 ...              ...               ...\n",
       "9991   -737.01779050059 3.07187568966551 -733.945914810924\n",
       "9992   -737.67606050511 3.15185981938941 -734.524200685721\n",
       "9993  -744.217005536611 3.32519295747032 -740.891812579141\n",
       "9994  -746.742258363116 3.36068239079702 -743.381575972319\n",
       "9995  -740.508703477338 3.25399397455753  -737.25470950278\n",
       "9996  -741.337687190772   3.272958457427 -738.064728733345\n",
       "9997  -737.096612123931 3.03244706895434 -734.064165054976\n",
       "9998  -738.072882173255 2.94395784985427 -735.128924323401\n",
       "9999  -737.848854206296  3.1620366530348 -734.686817553261\n",
       "10000 -741.365626635122  2.8054199688252 -738.560206666297"
      ]
     },
     "metadata": {},
     "output_type": "display_data"
    }
   ],
   "source": [
    "dens.points = xydensity(x=sample(seq(-2.3, -1.3, 0.005), 100),\n",
    "                        y=sample(seq(1, 5, 0.005), 100),\n",
    "                        counts=rat.data$Infected, totals=rat.data$Total)\n",
    "dens.points"
   ]
  },
  {
   "cell_type": "code",
   "execution_count": 11,
   "metadata": {
    "collapsed": false
   },
   "outputs": [
    {
     "data": {
      "text/html": [
       "<ol class=list-inline>\n",
       "\t<li>10000</li>\n",
       "\t<li>9</li>\n",
       "</ol>\n"
      ],
      "text/latex": [
       "\\begin{enumerate*}\n",
       "\\item 10000\n",
       "\\item 9\n",
       "\\end{enumerate*}\n"
      ],
      "text/markdown": [
       "1. 10000\n",
       "2. 9\n",
       "\n",
       "\n"
      ],
      "text/plain": [
       "[1] 10000     9"
      ]
     },
     "metadata": {},
     "output_type": "display_data"
    }
   ],
   "source": [
    "dim(dens.points)"
   ]
  },
  {
   "cell_type": "code",
   "execution_count": 12,
   "metadata": {
    "collapsed": false
   },
   "outputs": [
    {
     "data": {
      "text/plain": [
       "   rawLogPost        logLike          logPost      \n",
       " Min.   :-775.5   Min.   :-763.0   Min.   :-768.0  \n",
       " 1st Qu.:-749.8   1st Qu.:-742.8   1st Qu.:-746.2  \n",
       " Median :-744.8   Median :-738.4   Median :-742.0  \n",
       " Mean   :-746.1   Mean   :-739.3   Mean   :-742.8  \n",
       " 3rd Qu.:-740.9   3rd Qu.:-734.5   3rd Qu.:-737.9  \n",
       " Max.   :-737.0   Max.   :-730.3   Max.   :-733.8  "
      ]
     },
     "metadata": {},
     "output_type": "display_data"
    }
   ],
   "source": [
    "summary(dens.points %>% select(rawLogPost, logLike, logPost))"
   ]
  },
  {
   "cell_type": "code",
   "execution_count": 13,
   "metadata": {
    "collapsed": false
   },
   "outputs": [
    {
     "data": {},
     "metadata": {},
     "output_type": "display_data"
    },
    {
     "data": {
      "image/png": "[encoded data removed]",
      "text/plain": [
       "plot without title"
      ]
     },
     "metadata": {},
     "output_type": "display_data"
    }
   ],
   "source": [
    "ggplot(dens.points) +\n",
    "    aes(x=x, y=y, z=logPost) +\n",
    "    geom_contour(binwidth=0.5) +\n",
    "    xlab(\"log(a / b)\") +\n",
    "    ylab(\"log(a + b)\")"
   ]
  },
  {
   "cell_type": "markdown",
   "metadata": {},
   "source": [
    "## Inference for Parameter Values\n",
    "\n",
    "With the model in place, we want to use the computed point densities to do some esimation of the posterior distributions."
   ]
  },
  {
   "cell_type": "code",
   "execution_count": 14,
   "metadata": {
    "collapsed": true
   },
   "outputs": [],
   "source": [
    "expvals = function(dens) {\n",
    "    normPost = dens$logPost - max(dens$logPost)\n",
    "    alpha = sum(dens$alpha * exp(normPost)) / sum(exp(normPost))\n",
    "    beta = sum(dens$beta * exp(normPost)) / sum(exp(normPost))\n",
    "    x = log(alpha / beta)\n",
    "    y = log(alpha + beta)\n",
    "    mean = alpha / (alpha + beta)\n",
    "    data.frame(alpha=alpha, beta=beta, x=x, y=y, mean=mean)\n",
    "}"
   ]
  },
  {
   "cell_type": "code",
   "execution_count": 15,
   "metadata": {
    "collapsed": false
   },
   "outputs": [
    {
     "data": {
      "text/html": [
       "<table>\n",
       "<thead><tr><th></th><th scope=col>alpha</th><th scope=col>beta</th><th scope=col>x</th><th scope=col>y</th><th scope=col>mean</th></tr></thead>\n",
       "<tbody>\n",
       "\t<tr><th scope=row>1</th><td> 2.2941641</td><td>13.5335310</td><td>-1.7748018</td><td> 2.7617613</td><td> 0.1449462</td></tr>\n",
       "</tbody>\n",
       "</table>\n"
      ],
      "text/latex": [
       "\\begin{tabular}{r|lllll}\n",
       "  & alpha & beta & x & y & mean\\\\\n",
       "\\hline\n",
       "\t1 &  2.2941641 & 13.5335310 & -1.7748018 &  2.7617613 &  0.1449462\\\\\n",
       "\\end{tabular}\n"
      ],
      "text/plain": [
       "     alpha     beta         x        y      mean\n",
       "1 2.294164 13.53353 -1.774802 2.761761 0.1449462"
      ]
     },
     "metadata": {},
     "output_type": "display_data"
    }
   ],
   "source": [
    "expvals(dens.points)"
   ]
  },
  {
   "cell_type": "markdown",
   "metadata": {},
   "source": [
    "## MAP estimate\n",
    "\n",
    "We want to find the *maximum* value of the log posterior, so that we can use it later for normalization in the integral.  The `optim` function seems perfect for this!"
   ]
  },
  {
   "cell_type": "code",
   "execution_count": 16,
   "metadata": {
    "collapsed": false
   },
   "outputs": [
    {
     "data": {
      "text/plain": [
       "$par\n",
       "[1]  1.82629 10.84766\n",
       "\n",
       "$value\n",
       "[1] -737.0054\n",
       "\n",
       "$counts\n",
       "function gradient \n",
       "      71       NA \n",
       "\n",
       "$convergence\n",
       "[1] 0\n",
       "\n",
       "$message\n",
       "NULL\n"
      ]
     },
     "metadata": {},
     "output_type": "display_data"
    }
   ],
   "source": [
    "model.map = optim(c(1, 1), function(pars) {\n",
    "    alpha = pars[1]\n",
    "    beta = pars[2]\n",
    "    log(model.prior(alpha, beta)) + model.loglike(alpha, beta, rat.data$Infected, rat.data$Total)\n",
    "}, control=list(fnscale=-1))\n",
    "model.map"
   ]
  },
  {
   "cell_type": "markdown",
   "metadata": {},
   "source": [
    "## Integral Inference for the Posterior"
   ]
  },
  {
   "cell_type": "markdown",
   "metadata": {},
   "source": [
    "First, we will write a function to compute the probability density of a particular $\\theta$, as an integral $P(\\theta|\\mathbf{y}) = \\iint P(\\theta|\\alpha,\\beta)P(\\alpha,\\beta|\\mathbf{y}) \\, \\mathrm{d}\\alpha \\mathrm{d}\\beta$.\n",
    "\n",
    "This function is over `theta` (it will return a vector of densities, one corresponding to each value of `theta`).  The `norm` parameter is a normalizing constant used to make the log likelihoods exponentiable within the limits of floating point accuracy; a value a little less than the maximum log likelihood computed by the `xydensity` function is a good choice."
   ]
  },
  {
   "cell_type": "code",
   "execution_count": 17,
   "metadata": {
    "collapsed": true
   },
   "outputs": [],
   "source": [
    "model.theta.post = function(theta, logScale, counts, totals, prior=model.prior, loglike=model.loglike, parallel=FALSE) {\n",
    "    aaply(theta, 1, function(thv) {\n",
    "        integrate(function(beta) {\n",
    "            aaply(beta, 1, function(bv) {\n",
    "                integrate(function(alpha) {\n",
    "                    ll = loglike(alpha, bv, counts, totals)\n",
    "                    like = exp(ll - logScale)\n",
    "                    pth = dbeta(thv, alpha, bv)\n",
    "                    pth * prior(alpha, bv) * like\n",
    "                }, 0, Inf, rel.tol = 0.001)$value\n",
    "                })\n",
    "            }, 0, Inf, rel.tol = 0.001)$value\n",
    "    }, .parallel=parallel)\n",
    "}"
   ]
  },
  {
   "cell_type": "markdown",
   "metadata": {},
   "source": [
    "What's our maximum density? We'll use that as a starting point for scaling."
   ]
  },
  {
   "cell_type": "code",
   "execution_count": 18,
   "metadata": {
    "collapsed": false
   },
   "outputs": [
    {
     "data": {
      "text/html": [
       "-737.005356663874"
      ],
      "text/latex": [
       "-737.005356663874"
      ],
      "text/markdown": [
       "-737.005356663874"
      ],
      "text/plain": [
       "[1] -737.0054"
      ]
     },
     "metadata": {},
     "output_type": "display_data"
    }
   ],
   "source": [
    "model.map$value"
   ]
  },
  {
   "cell_type": "markdown",
   "metadata": {},
   "source": [
    "Let's compute; we do a second normalization to account for the fact that we are computing on intervals of 0.001, to try to make the area under the curve sum to 1.  This computation takes a little while."
   ]
  },
  {
   "cell_type": "code",
   "execution_count": 21,
   "metadata": {
    "collapsed": false
   },
   "outputs": [],
   "source": [
    "theta.post = data.frame(Theta=seq(0.01, 0.99, 0.001)) %>%\n",
    "    mutate(RawPostDens = model.theta.post(Theta, model.map$value + 1,\n",
    "                                          rat.data$Infected, rat.data$Total)) %>%\n",
    "    mutate(PostDens = RawPostDens / sum(RawPostDens * 0.001))"
   ]
  },
  {
   "cell_type": "code",
   "execution_count": 24,
   "metadata": {
    "collapsed": false
   },
   "outputs": [
    {
     "data": {},
     "metadata": {},
     "output_type": "display_data"
    },
    {
     "data": {
      "image/png": "[encoded data removed]",
      "text/plain": [
       "plot without title"
      ]
     },
     "metadata": {},
     "output_type": "display_data"
    }
   ],
   "source": [
    "ggplot(theta.post) +\n",
    "    aes(x=Theta, y=PostDens) +\n",
    "geom_line()"
   ]
  },
  {
   "cell_type": "code",
   "execution_count": null,
   "metadata": {
    "collapsed": true
   },
   "outputs": [],
   "source": []
  }
 ],
 "metadata": {
  "kernelspec": {
   "display_name": "R",
   "language": "R",
   "name": "ir"
  },
  "language_info": {
   "codemirror_mode": "r",
   "file_extension": ".r",
   "mimetype": "text/x-r-source",
   "name": "R",
   "pygments_lexer": "r",
   "version": "3.3.1"
  }
 },
 "nbformat": 4,
 "nbformat_minor": 1
}
