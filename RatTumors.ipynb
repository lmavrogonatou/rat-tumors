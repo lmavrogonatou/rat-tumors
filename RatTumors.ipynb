{
 "cells": [
  {
   "cell_type": "markdown",
   "metadata": {},
   "source": [
    "# Rat Tumor Example\n",
    "\n",
    "This is an R work-through of the rat tumor example in Chapter 5 of *Bayesian Data Analysis*, 3rd Edition (Gelman et al., 2014)."
   ]
  },
  {
   "cell_type": "markdown",
   "metadata": {},
   "source": [
    "The Git repository containing this notebook contains Conda `environment.yml` files to run it on Linux (64-bit) and Windows.  In addition to the packages in the Conda environment spec, you will also need the following:\n",
    "\n",
    "-   The [Rust compiler](https://www.rust-lang.org) to compile the optimized log-likelihood function\n",
    "-   The `rustinr` package from [Rustr](https://rustr.org/); install with `devtools`:\n",
    "\n",
    "    ```R\n",
    "    devtools::install_github('rustr/rustinr')\n",
    "    ```\n",
    "    \n",
    "If the environment files aren't working for you (e.g. you're on macOS), the following packages are required:\n",
    "\n",
    "- r\n",
    "- r-irkernel\n",
    "- notebook\n",
    "- r-ggplot2\n",
    "- r-plyr\n",
    "- r-dplyr\n",
    "- r-doParallel\n",
    "- r-devtools"
   ]
  },
  {
   "cell_type": "markdown",
   "metadata": {},
   "source": [
    "## Input Data\n",
    "\n",
    "First, we need the rat data.  This data originally came from Tarone (1982), and is available from <http://www.stat.columbia.edu/~gelman/book/data/rats.asc>."
   ]
  },
  {
   "cell_type": "code",
   "execution_count": 1,
   "metadata": {
    "collapsed": false
   },
   "outputs": [
    {
     "data": {
      "text/plain": [
       "    Infected          Total      \n",
       " Min.   : 0.000   Min.   :10.00  \n",
       " 1st Qu.: 1.000   1st Qu.:19.00  \n",
       " Median : 3.000   Median :20.00  \n",
       " Mean   : 3.761   Mean   :24.49  \n",
       " 3rd Qu.: 5.000   3rd Qu.:22.50  \n",
       " Max.   :16.000   Max.   :52.00  "
      ]
     },
     "metadata": {},
     "output_type": "display_data"
    }
   ],
   "source": [
    "rat.data = read.csv(\"rats.csv\")\n",
    "summary(rat.data)"
   ]
  },
  {
   "cell_type": "code",
   "execution_count": 2,
   "metadata": {
    "collapsed": false
   },
   "outputs": [
    {
     "data": {
      "text/html": [
       "<table>\n",
       "<thead><tr><th></th><th scope=col>Infected</th><th scope=col>Total</th></tr></thead>\n",
       "<tbody>\n",
       "\t<tr><th scope=row>1</th><td> 0</td><td>20</td></tr>\n",
       "\t<tr><th scope=row>2</th><td> 0</td><td>20</td></tr>\n",
       "\t<tr><th scope=row>3</th><td> 0</td><td>20</td></tr>\n",
       "\t<tr><th scope=row>4</th><td> 0</td><td>20</td></tr>\n",
       "\t<tr><th scope=row>5</th><td> 0</td><td>20</td></tr>\n",
       "\t<tr><th scope=row>6</th><td> 0</td><td>20</td></tr>\n",
       "</tbody>\n",
       "</table>\n"
      ],
      "text/latex": [
       "\\begin{tabular}{r|ll}\n",
       "  & Infected & Total\\\\\n",
       "\\hline\n",
       "\t1 &  0 & 20\\\\\n",
       "\t2 &  0 & 20\\\\\n",
       "\t3 &  0 & 20\\\\\n",
       "\t4 &  0 & 20\\\\\n",
       "\t5 &  0 & 20\\\\\n",
       "\t6 &  0 & 20\\\\\n",
       "\\end{tabular}\n"
      ],
      "text/plain": [
       "  Infected Total\n",
       "1        0    20\n",
       "2        0    20\n",
       "3        0    20\n",
       "4        0    20\n",
       "5        0    20\n",
       "6        0    20"
      ]
     },
     "metadata": {},
     "output_type": "display_data"
    }
   ],
   "source": [
    "head(rat.data)"
   ]
  },
  {
   "cell_type": "code",
   "execution_count": 3,
   "metadata": {
    "collapsed": false
   },
   "outputs": [],
   "source": [
    "rat.data$Total = as.integer(rat.data$Total)"
   ]
  },
  {
   "cell_type": "markdown",
   "metadata": {},
   "source": [
    "## Setup\n",
    "\n",
    "Let's pull in some useful R packages to get things going."
   ]
  },
  {
   "cell_type": "code",
   "execution_count": 4,
   "metadata": {
    "collapsed": false
   },
   "outputs": [
    {
     "name": "stderr",
     "output_type": "stream",
     "text": [
      "\n",
      "Attaching package: ‘dplyr’\n",
      "\n",
      "The following objects are masked from ‘package:plyr’:\n",
      "\n",
      "    arrange, count, desc, failwith, id, mutate, rename, summarise,\n",
      "    summarize\n",
      "\n",
      "The following objects are masked from ‘package:stats’:\n",
      "\n",
      "    filter, lag\n",
      "\n",
      "The following objects are masked from ‘package:base’:\n",
      "\n",
      "    intersect, setdiff, setequal, union\n",
      "\n",
      "Loading required package: foreach\n",
      "Loading required package: iterators\n",
      "Loading required package: parallel\n"
     ]
    }
   ],
   "source": [
    "library(ggplot2)\n",
    "library(rustinr)\n",
    "library(plyr)\n",
    "library(dplyr)\n",
    "library(doParallel)\n",
    "registerDoParallel()"
   ]
  },
  {
   "cell_type": "markdown",
   "metadata": {},
   "source": [
    "Quick test `rustinr` to make sure it works."
   ]
  },
  {
   "cell_type": "code",
   "execution_count": 5,
   "metadata": {
    "collapsed": false
   },
   "outputs": [
    {
     "data": {
      "text/html": [
       "'Hello World'"
      ],
      "text/latex": [
       "'Hello World'"
      ],
      "text/markdown": [
       "'Hello World'"
      ],
      "text/plain": [
       "[1] \"Hello World\""
      ]
     },
     "metadata": {},
     "output_type": "display_data"
    }
   ],
   "source": [
    "rust(code ='\n",
    "// #[rustr_export]\n",
    "pub fn say_hi() -> String{\n",
    "    \"Hello World\".into()\n",
    "}\n",
    "')\n",
    "say_hi()"
   ]
  },
  {
   "cell_type": "markdown",
   "metadata": {},
   "source": [
    "## Initial Data Summary\n",
    "\n",
    "Let's gather some initial summary statistics.\n",
    "\n",
    "First, what's the *overall* infection rate?"
   ]
  },
  {
   "cell_type": "code",
   "execution_count": 6,
   "metadata": {
    "collapsed": false
   },
   "outputs": [
    {
     "data": {
      "text/html": [
       "0.153536515238643"
      ],
      "text/latex": [
       "0.153536515238643"
      ],
      "text/markdown": [
       "0.153536515238643"
      ],
      "text/plain": [
       "[1] 0.1535365"
      ]
     },
     "metadata": {},
     "output_type": "display_data"
    }
   ],
   "source": [
    "sum(rat.data$Infected) / sum(rat.data$Total)"
   ]
  },
  {
   "cell_type": "markdown",
   "metadata": {},
   "source": [
    "And what is the mean infection rate?"
   ]
  },
  {
   "cell_type": "code",
   "execution_count": 7,
   "metadata": {
    "collapsed": false
   },
   "outputs": [
    {
     "data": {
      "text/plain": [
       "    Infected          Total            Rate        \n",
       " Min.   : 0.000   Min.   :10.00   Min.   :0.00000  \n",
       " 1st Qu.: 1.000   1st Qu.:19.00   1st Qu.:0.05132  \n",
       " Median : 3.000   Median :20.00   Median :0.11111  \n",
       " Mean   : 3.761   Mean   :24.49   Mean   :0.13812  \n",
       " 3rd Qu.: 5.000   3rd Qu.:22.50   3rd Qu.:0.21053  \n",
       " Max.   :16.000   Max.   :52.00   Max.   :0.37500  "
      ]
     },
     "metadata": {},
     "output_type": "display_data"
    }
   ],
   "source": [
    "rat.data$Rate = rat.data$Infected / rat.data$Total\n",
    "summary(rat.data)"
   ]
  },
  {
   "cell_type": "markdown",
   "metadata": {},
   "source": [
    "So our overall rate is 0.15, and the mean rate is 0.13."
   ]
  },
  {
   "cell_type": "markdown",
   "metadata": {},
   "source": [
    "## Bayesian Model\n",
    "\n",
    "In this data set, for each experiment $j$, we have two observations: $y_j$, the number of infected rats, and $n_j$, the number of rats.\n",
    "\n",
    "We model the data as having an infection rate $\\theta_j$ for each experiment.  We want to make inferences about the distribution of $\\theta_j$.\n",
    "\n",
    "In more detail, we use the following model:\n",
    "\n",
    "- $y_j \\sim \\mathrm{Bin}(n_j,\\theta_j)$\n",
    "- $\\theta_j \\sim \\mathrm{Beta}(\\alpha, \\beta)$\n",
    "\n",
    "For the purposes of notational simplicity theorem, we parameterize our model parameters as $\\phi = (\\alpha, \\beta)$.\n",
    "\n",
    "Therefore, we have the goal of computing $P(\\phi,\\mathbf{\\theta}|\\mathbf{y})$ given $\\mathbf{y}$ and our model / likelihood function $P(\\mathbf{y},\\mathbf{\\theta}|\\phi) = \\prod_j P(y_j,\\theta_j|\\phi_j) = \\prod_j P(y_j|\\theta_j)P(\\theta_j|\\phi_j)$.\n",
    "\n",
    "The final derivation, as per Eq. 5.8 in Gelman et al., is \n",
    "\n",
    "$$P(\\alpha, \\beta|\\mathrm{y}) \\propto P(\\alpha, \\beta) \\prod_j \\frac{\\Gamma(\\alpha+\\beta)}{\\Gamma(\\alpha)\\Gamma(\\beta)} \\frac{\\Gamma(\\alpha + y_j)\\Gamma(\\beta+n_j-y_j)}{\\Gamma(\\alpha+\\beta+n_j)}$$\n",
    "\n",
    "We will compute this log-transformed."
   ]
  },
  {
   "cell_type": "code",
   "execution_count": 8,
   "metadata": {
    "collapsed": true
   },
   "outputs": [],
   "source": [
    "rats.loglike = function(alpha, beta, ys=rat.data$Infected, ns=rat.data$Total) {\n",
    "    base = lgamma(alpha + beta) - lgamma(alpha) - lgamma(beta)\n",
    "    data = mapply(a=alpha, b=beta, FUN=function(a, b) {\n",
    "        sum(lgamma(a + ys) + \n",
    "                lgamma(b + ns - ys) - \n",
    "                lgamma(a + b + ns))\n",
    "    })\n",
    "    nrow(rat.data) * base + data\n",
    "}"
   ]
  },
  {
   "cell_type": "code",
   "execution_count": 9,
   "metadata": {
    "collapsed": true
   },
   "outputs": [],
   "source": [
    "test.alphas = seq(0.5, 1, 0.1)\n",
    "test.betas = seq(1, 2, 0.2)"
   ]
  },
  {
   "cell_type": "code",
   "execution_count": 10,
   "metadata": {
    "collapsed": false
   },
   "outputs": [
    {
     "data": {
      "text/html": [
       "<ol class=list-inline>\n",
       "\t<li>-0.693147180559945</li>\n",
       "\t<li>-0.383943640980291</li>\n",
       "\t<li>-0.0958165938148103</li>\n",
       "\t<li>0.17739140974576</li>\n",
       "\t<li>0.439528186834734</li>\n",
       "\t<li>0.693147180559945</li>\n",
       "</ol>\n"
      ],
      "text/latex": [
       "\\begin{enumerate*}\n",
       "\\item -0.693147180559945\n",
       "\\item -0.383943640980291\n",
       "\\item -0.0958165938148103\n",
       "\\item 0.17739140974576\n",
       "\\item 0.439528186834734\n",
       "\\item 0.693147180559945\n",
       "\\end{enumerate*}\n"
      ],
      "text/markdown": [
       "1. -0.693147180559945\n",
       "2. -0.383943640980291\n",
       "3. -0.0958165938148103\n",
       "4. 0.17739140974576\n",
       "5. 0.439528186834734\n",
       "6. 0.693147180559945\n",
       "\n",
       "\n"
      ],
      "text/plain": [
       "[1] -0.69314718 -0.38394364 -0.09581659  0.17739141  0.43952819  0.69314718"
      ]
     },
     "metadata": {},
     "output_type": "display_data"
    }
   ],
   "source": [
    "rust(path='rat-functions.rs')\n",
    "rats_llbase(test.alphas, test.betas)"
   ]
  },
  {
   "cell_type": "code",
   "execution_count": 11,
   "metadata": {
    "collapsed": false
   },
   "outputs": [
    {
     "data": {
      "text/html": [
       "<ol class=list-inline>\n",
       "\t<li>-0.693147180559945</li>\n",
       "\t<li>-0.383943640980291</li>\n",
       "\t<li>-0.0958165938148103</li>\n",
       "\t<li>0.17739140974576</li>\n",
       "\t<li>0.439528186834734</li>\n",
       "\t<li>0.693147180559945</li>\n",
       "</ol>\n"
      ],
      "text/latex": [
       "\\begin{enumerate*}\n",
       "\\item -0.693147180559945\n",
       "\\item -0.383943640980291\n",
       "\\item -0.0958165938148103\n",
       "\\item 0.17739140974576\n",
       "\\item 0.439528186834734\n",
       "\\item 0.693147180559945\n",
       "\\end{enumerate*}\n"
      ],
      "text/markdown": [
       "1. -0.693147180559945\n",
       "2. -0.383943640980291\n",
       "3. -0.0958165938148103\n",
       "4. 0.17739140974576\n",
       "5. 0.439528186834734\n",
       "6. 0.693147180559945\n",
       "\n",
       "\n"
      ],
      "text/plain": [
       "[1] -0.69314718 -0.38394364 -0.09581659  0.17739141  0.43952819  0.69314718"
      ]
     },
     "metadata": {},
     "output_type": "display_data"
    }
   ],
   "source": [
    "lgamma(test.alphas + test.betas) - lgamma(test.alphas) - lgamma(test.betas)"
   ]
  },
  {
   "cell_type": "code",
   "execution_count": 12,
   "metadata": {
    "collapsed": false
   },
   "outputs": [
    {
     "data": {
      "text/html": [
       "<ol class=list-inline>\n",
       "\t<li>-765.48605385717</li>\n",
       "\t<li>-763.720776812676</li>\n",
       "\t<li>-762.868121388742</li>\n",
       "\t<li>-762.613288551734</li>\n",
       "\t<li>-762.765674058424</li>\n",
       "\t<li>-763.203098300001</li>\n",
       "</ol>\n"
      ],
      "text/latex": [
       "\\begin{enumerate*}\n",
       "\\item -765.48605385717\n",
       "\\item -763.720776812676\n",
       "\\item -762.868121388742\n",
       "\\item -762.613288551734\n",
       "\\item -762.765674058424\n",
       "\\item -763.203098300001\n",
       "\\end{enumerate*}\n"
      ],
      "text/markdown": [
       "1. -765.48605385717\n",
       "2. -763.720776812676\n",
       "3. -762.868121388742\n",
       "4. -762.613288551734\n",
       "5. -762.765674058424\n",
       "6. -763.203098300001\n",
       "\n",
       "\n"
      ],
      "text/plain": [
       "[1] -765.4861 -763.7208 -762.8681 -762.6133 -762.7657 -763.2031"
      ]
     },
     "metadata": {},
     "output_type": "display_data"
    }
   ],
   "source": [
    "rats_loglike(test.alphas, test.betas, rat.data$Infected, rat.data$Total)"
   ]
  },
  {
   "cell_type": "code",
   "execution_count": 13,
   "metadata": {
    "collapsed": false
   },
   "outputs": [
    {
     "data": {
      "text/html": [
       "<ol class=list-inline>\n",
       "\t<li>-765.48605385717</li>\n",
       "\t<li>-763.720776812676</li>\n",
       "\t<li>-762.868121388741</li>\n",
       "\t<li>-762.613288551734</li>\n",
       "\t<li>-762.765674058424</li>\n",
       "\t<li>-763.203098300001</li>\n",
       "</ol>\n"
      ],
      "text/latex": [
       "\\begin{enumerate*}\n",
       "\\item -765.48605385717\n",
       "\\item -763.720776812676\n",
       "\\item -762.868121388741\n",
       "\\item -762.613288551734\n",
       "\\item -762.765674058424\n",
       "\\item -763.203098300001\n",
       "\\end{enumerate*}\n"
      ],
      "text/markdown": [
       "1. -765.48605385717\n",
       "2. -763.720776812676\n",
       "3. -762.868121388741\n",
       "4. -762.613288551734\n",
       "5. -762.765674058424\n",
       "6. -763.203098300001\n",
       "\n",
       "\n"
      ],
      "text/plain": [
       "[1] -765.4861 -763.7208 -762.8681 -762.6133 -762.7657 -763.2031"
      ]
     },
     "metadata": {},
     "output_type": "display_data"
    }
   ],
   "source": [
    "rats.loglike(test.alphas, test.betas)"
   ]
  },
  {
   "cell_type": "markdown",
   "metadata": {},
   "source": [
    "We're also going to use the diffuse prior from Equation 5.9:\n",
    "\n",
    "$$P(\\alpha, \\beta) \\propto (\\alpha + \\beta)^{-5/2}$$\n",
    "\n",
    "We will not worry about the constant, since we care about *relative* densities."
   ]
  },
  {
   "cell_type": "code",
   "execution_count": 14,
   "metadata": {
    "collapsed": true
   },
   "outputs": [],
   "source": [
    "prior = function(alpha, beta) {\n",
    "    (alpha + beta) ^ (-5 / 2)\n",
    "}"
   ]
  },
  {
   "cell_type": "markdown",
   "metadata": {},
   "source": [
    "With that in hand, we can almost start plotting posterior densities!  However, we want to plot over $\\mathrm{log}(\\frac{\\alpha}{\\beta})$ and $\\mathrm{log}(\\alpha+\\beta)$, not the raw $\\alpha$ and $\\beta$ parameters.  Therefore, we need a transform:\n",
    "\n",
    "$$\\begin{align*}\n",
    "x & = \\mathrm{log}(\\frac{\\alpha}{\\beta}) \\\\\n",
    "y & = \\mathrm{log}(\\alpha + \\beta) \\\\\n",
    "\\alpha & = e^x \\beta \\\\\n",
    "\\beta & = \\frac{e^y}{e^x + 1}\n",
    "\\end{align*}$$"
   ]
  },
  {
   "cell_type": "code",
   "execution_count": 15,
   "metadata": {
    "collapsed": true
   },
   "outputs": [],
   "source": [
    "par.beta = function(x, y) {\n",
    "    exp(y) / (exp(x) + 1)\n",
    "}\n",
    "par.alpha = function(x, y) {\n",
    "    exp(x) * par.beta(x, y)\n",
    "}"
   ]
  },
  {
   "cell_type": "markdown",
   "metadata": {},
   "source": [
    "Set up our plotting area.  This uses the ranges from Figure 5.3 in Gelman."
   ]
  },
  {
   "cell_type": "code",
   "execution_count": 16,
   "metadata": {
    "collapsed": false
   },
   "outputs": [
    {
     "data": {
      "text/html": [
       "<table>\n",
       "<thead><tr><th></th><th scope=col>xs</th><th scope=col>ys</th></tr></thead>\n",
       "<tbody>\n",
       "\t<tr><th scope=row>1</th><td>-2.3</td><td> 1.0</td></tr>\n",
       "\t<tr><th scope=row>2</th><td>-2.295</td><td> 1.000</td></tr>\n",
       "\t<tr><th scope=row>3</th><td>-2.29</td><td> 1.00</td></tr>\n",
       "\t<tr><th scope=row>4</th><td>-2.285</td><td> 1.000</td></tr>\n",
       "\t<tr><th scope=row>5</th><td>-2.28</td><td> 1.00</td></tr>\n",
       "\t<tr><th scope=row>6</th><td>-2.275</td><td> 1.000</td></tr>\n",
       "</tbody>\n",
       "</table>\n"
      ],
      "text/latex": [
       "\\begin{tabular}{r|ll}\n",
       "  & xs & ys\\\\\n",
       "\\hline\n",
       "\t1 & -2.3 &  1.0\\\\\n",
       "\t2 & -2.295 &  1.000\\\\\n",
       "\t3 & -2.29 &  1.00\\\\\n",
       "\t4 & -2.285 &  1.000\\\\\n",
       "\t5 & -2.28 &  1.00\\\\\n",
       "\t6 & -2.275 &  1.000\\\\\n",
       "\\end{tabular}\n"
      ],
      "text/plain": [
       "      xs ys\n",
       "1 -2.300  1\n",
       "2 -2.295  1\n",
       "3 -2.290  1\n",
       "4 -2.285  1\n",
       "5 -2.280  1\n",
       "6 -2.275  1"
      ]
     },
     "metadata": {},
     "output_type": "display_data"
    }
   ],
   "source": [
    "points = expand.grid(xs=seq(-2.3, -1.3, 0.005), ys=seq(1,5,0.005))\n",
    "head(points)"
   ]
  },
  {
   "cell_type": "code",
   "execution_count": 17,
   "metadata": {
    "collapsed": false
   },
   "outputs": [
    {
     "data": {
      "text/html": [
       "<table>\n",
       "<thead><tr><th></th><th scope=col>xs</th><th scope=col>ys</th><th scope=col>alpha</th><th scope=col>beta</th></tr></thead>\n",
       "<tbody>\n",
       "\t<tr><th scope=row>1</th><td>-2.3000000</td><td> 1.0000000</td><td> 0.2476979</td><td> 2.4705839</td></tr>\n",
       "\t<tr><th scope=row>2</th><td>-2.2950000</td><td> 1.0000000</td><td> 0.2488258</td><td> 2.4694560</td></tr>\n",
       "\t<tr><th scope=row>3</th><td>-2.2900000</td><td> 1.0000000</td><td> 0.2499584</td><td> 2.4683234</td></tr>\n",
       "\t<tr><th scope=row>4</th><td>-2.2850000</td><td> 1.0000000</td><td> 0.2510956</td><td> 2.4671863</td></tr>\n",
       "\t<tr><th scope=row>5</th><td>-2.2800000</td><td> 1.0000000</td><td> 0.2522374</td><td> 2.4660444</td></tr>\n",
       "\t<tr><th scope=row>6</th><td>-2.2750000</td><td> 1.0000000</td><td> 0.2533839</td><td> 2.4648979</td></tr>\n",
       "</tbody>\n",
       "</table>\n"
      ],
      "text/latex": [
       "\\begin{tabular}{r|llll}\n",
       "  & xs & ys & alpha & beta\\\\\n",
       "\\hline\n",
       "\t1 & -2.3000000 &  1.0000000 &  0.2476979 &  2.4705839\\\\\n",
       "\t2 & -2.2950000 &  1.0000000 &  0.2488258 &  2.4694560\\\\\n",
       "\t3 & -2.2900000 &  1.0000000 &  0.2499584 &  2.4683234\\\\\n",
       "\t4 & -2.2850000 &  1.0000000 &  0.2510956 &  2.4671863\\\\\n",
       "\t5 & -2.2800000 &  1.0000000 &  0.2522374 &  2.4660444\\\\\n",
       "\t6 & -2.2750000 &  1.0000000 &  0.2533839 &  2.4648979\\\\\n",
       "\\end{tabular}\n"
      ],
      "text/plain": [
       "      xs ys     alpha     beta\n",
       "1 -2.300  1 0.2476979 2.470584\n",
       "2 -2.295  1 0.2488258 2.469456\n",
       "3 -2.290  1 0.2499584 2.468323\n",
       "4 -2.285  1 0.2510956 2.467186\n",
       "5 -2.280  1 0.2522374 2.466044\n",
       "6 -2.275  1 0.2533839 2.464898"
      ]
     },
     "metadata": {},
     "output_type": "display_data"
    }
   ],
   "source": [
    "points$alpha = par.alpha(points$xs, points$ys)\n",
    "points$beta = par.beta(points$xs, points$ys)\n",
    "head(points)"
   ]
  },
  {
   "cell_type": "markdown",
   "metadata": {},
   "source": [
    "We now compute the prior probabilities for each of our values."
   ]
  },
  {
   "cell_type": "code",
   "execution_count": 18,
   "metadata": {
    "collapsed": false
   },
   "outputs": [
    {
     "data": {
      "text/html": [
       "<table>\n",
       "<thead><tr><th></th><th scope=col>xs</th><th scope=col>ys</th><th scope=col>alpha</th><th scope=col>beta</th><th scope=col>prior</th><th scope=col>logPrior</th></tr></thead>\n",
       "<tbody>\n",
       "\t<tr><th scope=row>1</th><td>-2.3000000</td><td> 1.0000000</td><td> 0.2476979</td><td> 2.4705839</td><td> 0.0820850</td><td>-2.5000000</td></tr>\n",
       "\t<tr><th scope=row>2</th><td>-2.2950000</td><td> 1.0000000</td><td> 0.2488258</td><td> 2.4694560</td><td> 0.0820850</td><td>-2.5000000</td></tr>\n",
       "\t<tr><th scope=row>3</th><td>-2.2900000</td><td> 1.0000000</td><td> 0.2499584</td><td> 2.4683234</td><td> 0.0820850</td><td>-2.5000000</td></tr>\n",
       "\t<tr><th scope=row>4</th><td>-2.2850000</td><td> 1.0000000</td><td> 0.2510956</td><td> 2.4671863</td><td> 0.0820850</td><td>-2.5000000</td></tr>\n",
       "\t<tr><th scope=row>5</th><td>-2.2800000</td><td> 1.0000000</td><td> 0.2522374</td><td> 2.4660444</td><td> 0.0820850</td><td>-2.5000000</td></tr>\n",
       "\t<tr><th scope=row>6</th><td>-2.2750000</td><td> 1.0000000</td><td> 0.2533839</td><td> 2.4648979</td><td> 0.0820850</td><td>-2.5000000</td></tr>\n",
       "</tbody>\n",
       "</table>\n"
      ],
      "text/latex": [
       "\\begin{tabular}{r|llllll}\n",
       "  & xs & ys & alpha & beta & prior & logPrior\\\\\n",
       "\\hline\n",
       "\t1 & -2.3000000 &  1.0000000 &  0.2476979 &  2.4705839 &  0.0820850 & -2.5000000\\\\\n",
       "\t2 & -2.2950000 &  1.0000000 &  0.2488258 &  2.4694560 &  0.0820850 & -2.5000000\\\\\n",
       "\t3 & -2.2900000 &  1.0000000 &  0.2499584 &  2.4683234 &  0.0820850 & -2.5000000\\\\\n",
       "\t4 & -2.2850000 &  1.0000000 &  0.2510956 &  2.4671863 &  0.0820850 & -2.5000000\\\\\n",
       "\t5 & -2.2800000 &  1.0000000 &  0.2522374 &  2.4660444 &  0.0820850 & -2.5000000\\\\\n",
       "\t6 & -2.2750000 &  1.0000000 &  0.2533839 &  2.4648979 &  0.0820850 & -2.5000000\\\\\n",
       "\\end{tabular}\n"
      ],
      "text/plain": [
       "      xs ys     alpha     beta    prior logPrior\n",
       "1 -2.300  1 0.2476979 2.470584 0.082085     -2.5\n",
       "2 -2.295  1 0.2488258 2.469456 0.082085     -2.5\n",
       "3 -2.290  1 0.2499584 2.468323 0.082085     -2.5\n",
       "4 -2.285  1 0.2510956 2.467186 0.082085     -2.5\n",
       "5 -2.280  1 0.2522374 2.466044 0.082085     -2.5\n",
       "6 -2.275  1 0.2533839 2.464898 0.082085     -2.5"
      ]
     },
     "metadata": {},
     "output_type": "display_data"
    }
   ],
   "source": [
    "points$prior = prior(points$alpha, points$beta)\n",
    "points$logPrior = log(points$prior)\n",
    "head(points)"
   ]
  },
  {
   "cell_type": "markdown",
   "metadata": {},
   "source": [
    "Finally, because our prior and likelihood functions operate over $(\\alpha,\\beta)$, but we are plotting over $\\mathrm{log} \\frac{\\alpha,\\beta}, \\mathrm{log}(\\alpha + \\beta)$, we need to compute the Jacobian for our transformation; this is $\\alpha\\beta$, and we will also take its logarithm."
   ]
  },
  {
   "cell_type": "code",
   "execution_count": 19,
   "metadata": {
    "collapsed": true
   },
   "outputs": [],
   "source": [
    "points$jacobian = points$alpha * points$beta\n",
    "points$logJacobian = log(points$alpha) + log(points$beta)"
   ]
  },
  {
   "cell_type": "code",
   "execution_count": 20,
   "metadata": {
    "collapsed": false
   },
   "outputs": [
    {
     "data": {
      "text/plain": [
       "       xs              ys        alpha              beta        \n",
       " Min.   :-2.30   Min.   :1   Min.   : 0.2477   Min.   :  2.136  \n",
       " 1st Qu.:-2.05   1st Qu.:2   1st Qu.: 1.0414   1st Qu.:  6.300  \n",
       " Median :-1.80   Median :3   Median : 2.8346   Median : 17.148  \n",
       " Mean   :-1.80   Mean   :3   Mean   : 5.3067   Mean   : 31.166  \n",
       " 3rd Qu.:-1.55   3rd Qu.:4   3rd Qu.: 7.7154   3rd Qu.: 46.675  \n",
       " Max.   :-1.30   Max.   :5   Max.   :31.7849   Max.   :134.889  \n",
       "     prior              logPrior        jacobian         logJacobian     \n",
       " Min.   :3.730e-06   Min.   :-12.5   Min.   :   0.612   Min.   :-0.4911  \n",
       " 1st Qu.:4.540e-05   1st Qu.:-10.0   1st Qu.:   6.563   1st Qu.: 1.8815  \n",
       " Median :5.531e-04   Median : -7.5   Median :  48.608   Median : 3.8838  \n",
       " Mean   :8.249e-03   Mean   : -7.5   Mean   : 339.966   Mean   : 3.8838  \n",
       " 3rd Qu.:6.738e-03   3rd Qu.: -5.0   3rd Qu.: 359.996   3rd Qu.: 5.8861  \n",
       " Max.   :8.209e-02   Max.   : -2.5   Max.   :3707.018   Max.   : 8.2180  \n",
       "    logLike          logPost      \n",
       " Min.   :-763.5   Min.   :-776.0  \n",
       " 1st Qu.:-743.5   1st Qu.:-751.5  \n",
       " Median :-738.6   Median :-745.8  \n",
       " Mean   :-739.7   Mean   :-747.2  \n",
       " 3rd Qu.:-734.7   3rd Qu.:-741.5  \n",
       " Max.   :-730.3   Max.   :-737.0  "
      ]
     },
     "metadata": {},
     "output_type": "display_data"
    }
   ],
   "source": [
    "points$logLike = rats_loglike(points$alpha, points$beta, rat.data$Infected, rat.data$Total)\n",
    "points$logPost = points$logPrior + points$logLike\n",
    "summary(points)"
   ]
  },
  {
   "cell_type": "markdown",
   "metadata": {},
   "source": [
    "And transform the posterior on $\\alpha, \\beta$ to our transformed parameter space:"
   ]
  },
  {
   "cell_type": "code",
   "execution_count": 21,
   "metadata": {
    "collapsed": false
   },
   "outputs": [],
   "source": [
    "points$transformedLogPost = points$logPost + points$logJacobian"
   ]
  },
  {
   "cell_type": "code",
   "execution_count": 22,
   "metadata": {
    "collapsed": false
   },
   "outputs": [
    {
     "data": {},
     "metadata": {},
     "output_type": "display_data"
    },
    {
     "data": {
      "image/png": "[encoded data removed]",
      "text/plain": [
       "plot without title"
      ]
     },
     "metadata": {},
     "output_type": "display_data"
    }
   ],
   "source": [
    "ggplot(points) +\n",
    "    aes(x=xs, y=ys, z=transformedLogPost) +\n",
    "    geom_contour(binwidth=0.5)"
   ]
  },
  {
   "cell_type": "markdown",
   "metadata": {},
   "source": [
    "The way that R generates contours is a bit different, but we can see that the plot has (close to?) the same mode and shape as Figure 5.3 in Gelman et al."
   ]
  },
  {
   "cell_type": "markdown",
   "metadata": {},
   "source": [
    "## Inference for Parameter Values\n",
    "\n",
    "Now we want to infer parameter values.\n",
    "\n",
    "Let us first normalize the posterior likelihoods to something we can actually exponentiate."
   ]
  },
  {
   "cell_type": "code",
   "execution_count": 23,
   "metadata": {
    "collapsed": false
   },
   "outputs": [
    {
     "data": {
      "text/plain": [
       "   Min. 1st Qu.  Median    Mean 3rd Qu.    Max. \n",
       "-34.640 -13.250  -8.431  -9.506  -4.383   0.000 "
      ]
     },
     "metadata": {},
     "output_type": "display_data"
    }
   ],
   "source": [
    "normPost = points$transformedLogPost - max(points$transformedLogPost)\n",
    "summary(normPost)"
   ]
  },
  {
   "cell_type": "markdown",
   "metadata": {},
   "source": [
    "Now estimate $E[\\alpha]$; we divide by $\\sum P(\\alpha,\\beta|y)$ to obtain something like real probabilities:"
   ]
  },
  {
   "cell_type": "code",
   "execution_count": 24,
   "metadata": {
    "collapsed": false
   },
   "outputs": [
    {
     "data": {
      "text/html": [
       "2.4025623803521"
      ],
      "text/latex": [
       "2.4025623803521"
      ],
      "text/markdown": [
       "2.4025623803521"
      ],
      "text/plain": [
       "[1] 2.402562"
      ]
     },
     "metadata": {},
     "output_type": "display_data"
    }
   ],
   "source": [
    "exp.alpha = sum(points$alpha * exp(normPost)) / sum(exp(normPost))\n",
    "exp.alpha"
   ]
  },
  {
   "cell_type": "markdown",
   "metadata": {},
   "source": [
    "This matches Gelman's value of $E[\\alpha|y] \\approx 2.4$. Let's try $\\beta$."
   ]
  },
  {
   "cell_type": "code",
   "execution_count": 25,
   "metadata": {
    "collapsed": false
   },
   "outputs": [
    {
     "data": {
      "text/html": [
       "14.3194767947437"
      ],
      "text/latex": [
       "14.3194767947437"
      ],
      "text/markdown": [
       "14.3194767947437"
      ],
      "text/plain": [
       "[1] 14.31948"
      ]
     },
     "metadata": {},
     "output_type": "display_data"
    }
   ],
   "source": [
    "exp.beta = sum(points$beta * exp(normPost)) / sum(exp(normPost))\n",
    "exp.beta"
   ]
  },
  {
   "cell_type": "markdown",
   "metadata": {},
   "source": [
    "This is Gelman's value as well ($E[\\beta|y] \\approx 14.3$). What are the x and y values that arise from this?"
   ]
  },
  {
   "cell_type": "code",
   "execution_count": 26,
   "metadata": {
    "collapsed": false
   },
   "outputs": [
    {
     "data": {
      "text/html": [
       "2.81672756045302"
      ],
      "text/latex": [
       "2.81672756045302"
      ],
      "text/markdown": [
       "2.81672756045302"
      ],
      "text/plain": [
       "[1] 2.816728"
      ]
     },
     "metadata": {},
     "output_type": "display_data"
    }
   ],
   "source": [
    "y = log(exp.alpha + exp.beta)\n",
    "y"
   ]
  },
  {
   "cell_type": "code",
   "execution_count": 27,
   "metadata": {
    "collapsed": false
   },
   "outputs": [
    {
     "data": {
      "text/html": [
       "-1.78508479789314"
      ],
      "text/latex": [
       "-1.78508479789314"
      ],
      "text/markdown": [
       "-1.78508479789314"
      ],
      "text/plain": [
       "[1] -1.785085"
      ]
     },
     "metadata": {},
     "output_type": "display_data"
    }
   ],
   "source": [
    "x = log(exp.alpha / exp.beta)\n",
    "x"
   ]
  },
  {
   "cell_type": "markdown",
   "metadata": {},
   "source": [
    "That aligns with the mode of our contour plot.\n",
    "\n",
    "Now, what is the posterior expected value of $\\theta$ based on pointwise estimates of $\\alpha$ and $\\beta$?  This can be computed with $\\frac{\\alpha}{\\alpha + \\beta}$."
   ]
  },
  {
   "cell_type": "code",
   "execution_count": 28,
   "metadata": {
    "collapsed": false
   },
   "outputs": [
    {
     "data": {
      "text/html": [
       "0.143676399462707"
      ],
      "text/latex": [
       "0.143676399462707"
      ],
      "text/markdown": [
       "0.143676399462707"
      ],
      "text/plain": [
       "[1] 0.1436764"
      ]
     },
     "metadata": {},
     "output_type": "display_data"
    }
   ],
   "source": [
    "exp.alpha / (exp.alpha + exp.beta)"
   ]
  },
  {
   "cell_type": "markdown",
   "metadata": {},
   "source": [
    "This value lies between the mean rate (0.13) and the overall infection rate (0.15)."
   ]
  },
  {
   "cell_type": "markdown",
   "metadata": {},
   "source": [
    "And a plot of the posterior distribution based on the pointwise estimates:"
   ]
  },
  {
   "cell_type": "code",
   "execution_count": 29,
   "metadata": {
    "collapsed": false
   },
   "outputs": [
    {
     "data": {},
     "metadata": {},
     "output_type": "display_data"
    },
    {
     "data": {
      "image/png": "[encoded data removed]",
      "text/plain": [
       "plot without title"
      ]
     },
     "metadata": {},
     "output_type": "display_data"
    }
   ],
   "source": [
    "theta.post.point = data.frame(Theta=seq(0,1,0.001))\n",
    "theta.post.point$PostDens = dbeta(theta.post.point$Theta, exp.alpha, exp.beta)\n",
    "ggplot(theta.post.point) + aes(x=Theta, y=PostDens) + geom_line()"
   ]
  },
  {
   "cell_type": "markdown",
   "metadata": {
    "collapsed": true
   },
   "source": [
    "## Advanced Inference\n",
    "\n",
    "Let's do some more advanced inference of the posterior distribution.  We're going to use a log posterior normalization of +735 to get numbers to work out in a reasonable fashion.  This value is selected to bring the largest posterior log likelihood close to 0."
   ]
  },
  {
   "cell_type": "markdown",
   "metadata": {},
   "source": [
    "First, we will write a function to compute the probability density of a particular $\\theta$, as an integral $P(\\theta|\\mathbf{y}) = \\iint P(\\theta|\\alpha,\\beta)P(\\alpha,\\beta|\\mathbf{y}) \\, \\mathrm{d}\\alpha \\mathrm{d}\\beta$."
   ]
  },
  {
   "cell_type": "code",
   "execution_count": 30,
   "metadata": {
    "collapsed": true
   },
   "outputs": [],
   "source": [
    "theta.post = function(theta, loglike=rats_loglike, parallel=length(theta) > 10) {\n",
    "    aaply(theta, 1, function(thv) {\n",
    "        integrate(function(beta) {\n",
    "            aaply(beta, 1, function(bv) {\n",
    "                integrate(function(alpha) {\n",
    "                    ll = loglike(alpha, bv, rat.data$Infected, rat.data$Total)\n",
    "                    like = exp(ll + 735)\n",
    "                    pth = dbeta(thv, alpha, bv)\n",
    "                    pth * prior(alpha, bv) * like\n",
    "                }, 0, Inf, rel.tol = 0.001)$value\n",
    "                })\n",
    "            }, 0, Inf, rel.tol = 0.001)$value\n",
    "    }, .parallel=parallel)\n",
    "}"
   ]
  },
  {
   "cell_type": "markdown",
   "metadata": {},
   "source": [
    "Test this function with our observed mean $0.14$, using both log likelihood implementations."
   ]
  },
  {
   "cell_type": "code",
   "execution_count": 31,
   "metadata": {
    "collapsed": false
   },
   "outputs": [
    {
     "data": {
      "text/html": [
       "3.24417130732396"
      ],
      "text/latex": [
       "3.24417130732396"
      ],
      "text/markdown": [
       "3.24417130732396"
      ],
      "text/plain": [
       "[1] 3.244171"
      ]
     },
     "metadata": {},
     "output_type": "display_data"
    }
   ],
   "source": [
    "theta.post(0.14, rats.loglike)"
   ]
  },
  {
   "cell_type": "code",
   "execution_count": 32,
   "metadata": {
    "collapsed": false
   },
   "outputs": [
    {
     "data": {
      "text/html": [
       "3.24417130732397"
      ],
      "text/latex": [
       "3.24417130732397"
      ],
      "text/markdown": [
       "3.24417130732397"
      ],
      "text/plain": [
       "[1] 3.244171"
      ]
     },
     "metadata": {},
     "output_type": "display_data"
    }
   ],
   "source": [
    "theta.post(0.14, rats_loglike)"
   ]
  },
  {
   "cell_type": "markdown",
   "metadata": {},
   "source": [
    "Now, we want to plot the posterior density.  So we will compute our posterior density, with `theta.post` (the integral-based function), for a variety of $\\theta$ values.  $\\theta=0$ and $\\theta=1$ are not well-formed, so we exclude them."
   ]
  },
  {
   "cell_type": "code",
   "execution_count": 33,
   "metadata": {
    "collapsed": false
   },
   "outputs": [],
   "source": [
    "thetas.frame = data.frame(Theta=seq(0.01, 0.99, 0.001))\n",
    "thetas.frame$PostDens = theta.post(thetas.frame$Theta)"
   ]
  },
  {
   "cell_type": "markdown",
   "metadata": {},
   "source": [
    "Now we need to rescale the posterior densitites based on the total density.  This puts them into approximately the same scale as a real beta distribution probability density function.\n",
    "\n",
    "We multiply the density by 0.001 and sum, to account for the fact that we are computing in intervals of 0.001.  A more refined estimate would take advantage of the trapezoid approximation of integration."
   ]
  },
  {
   "cell_type": "code",
   "execution_count": 34,
   "metadata": {
    "collapsed": false
   },
   "outputs": [],
   "source": [
    "thetas.frame = thetas.frame %>% mutate(PostDens=PostDens/sum(PostDens * 0.001))"
   ]
  },
  {
   "cell_type": "code",
   "execution_count": 35,
   "metadata": {
    "collapsed": false
   },
   "outputs": [
    {
     "data": {},
     "metadata": {},
     "output_type": "display_data"
    },
    {
     "data": {
      "image/png": "[encoded data removed]",
      "text/plain": [
       "plot without title"
      ]
     },
     "metadata": {},
     "output_type": "display_data"
    }
   ],
   "source": [
    "ggplot(thetas.frame) +\n",
    "    aes(x=Theta, y=PostDens) +\n",
    "    geom_line()"
   ]
  },
  {
   "cell_type": "markdown",
   "metadata": {
    "collapsed": true
   },
   "source": [
    "What is the expected value of $\\theta$?  We will take the weighted mean."
   ]
  },
  {
   "cell_type": "code",
   "execution_count": 36,
   "metadata": {
    "collapsed": false
   },
   "outputs": [
    {
     "data": {
      "text/html": [
       "0.145360752452132"
      ],
      "text/latex": [
       "0.145360752452132"
      ],
      "text/markdown": [
       "0.145360752452132"
      ],
      "text/plain": [
       "[1] 0.1453608"
      ]
     },
     "metadata": {},
     "output_type": "display_data"
    }
   ],
   "source": [
    "sum(thetas.frame$Theta * thetas.frame$PostDens) / sum(thetas.frame$PostDens)"
   ]
  },
  {
   "cell_type": "markdown",
   "metadata": {},
   "source": [
    "What is a 95% credible interval?"
   ]
  },
  {
   "cell_type": "code",
   "execution_count": 37,
   "metadata": {
    "collapsed": false
   },
   "outputs": [
    {
     "data": {
      "text/plain": [
       "     Theta          PostDens           CumDens       \n",
       " Min.   :0.010   Min.   :0.000000   Min.   :0.00136  \n",
       " 1st Qu.:0.255   1st Qu.:0.000385   1st Qu.:0.88649  \n",
       " Median :0.500   Median :0.044177   Median :0.99752  \n",
       " Mean   :0.500   Mean   :1.019368   Mean   :0.86202  \n",
       " 3rd Qu.:0.745   3rd Qu.:1.507541   3rd Qu.:0.99999  \n",
       " Max.   :0.990   Max.   :5.100291   Max.   :1.00000  "
      ]
     },
     "metadata": {},
     "output_type": "display_data"
    }
   ],
   "source": [
    "thetas.frame$CumDens = cumsum(thetas.frame$PostDens) / sum(thetas.frame$PostDens)\n",
    "summary(thetas.frame)"
   ]
  },
  {
   "cell_type": "code",
   "execution_count": 38,
   "metadata": {
    "collapsed": false
   },
   "outputs": [
    {
     "data": {
      "text/html": [
       "<ol class=list-inline>\n",
       "\t<li>0.023</li>\n",
       "\t<li>0.36</li>\n",
       "</ol>\n"
      ],
      "text/latex": [
       "\\begin{enumerate*}\n",
       "\\item 0.023\n",
       "\\item 0.36\n",
       "\\end{enumerate*}\n"
      ],
      "text/markdown": [
       "1. 0.023\n",
       "2. 0.36\n",
       "\n",
       "\n"
      ],
      "text/plain": [
       "[1] 0.023 0.360"
      ]
     },
     "metadata": {},
     "output_type": "display_data"
    }
   ],
   "source": [
    "theta.ci.indexes = c(which(thetas.frame$CumDens >= 0.025)[1],\n",
    "                     which(thetas.frame$CumDens >= 0.975)[1])\n",
    "thetas.frame$Theta[theta.ci.indexes]"
   ]
  },
  {
   "cell_type": "markdown",
   "metadata": {
    "collapsed": true
   },
   "source": [
    "### Merging Plots\n",
    "\n",
    "Now we will plot a single plot that has two versions of the posterior density: one based on pointwise estimates for the parameters $\\alpha$ and $\\beta$ of a beta distribution, and one with the posterior density integrated over all parameter values."
   ]
  },
  {
   "cell_type": "code",
   "execution_count": 39,
   "metadata": {
    "collapsed": false
   },
   "outputs": [],
   "source": [
    "theta.post.merged = rbind(\n",
    "    (theta.post.point %>% mutate(Method='Pointwise')),\n",
    "    (thetas.frame %>% select(Theta, PostDens) %>% mutate(Method='Integral'))\n",
    ")"
   ]
  },
  {
   "cell_type": "code",
   "execution_count": 40,
   "metadata": {
    "collapsed": false
   },
   "outputs": [
    {
     "data": {},
     "metadata": {},
     "output_type": "display_data"
    },
    {
     "data": {
      "image/png": "[encoded data removed]",
      "text/plain": [
       "plot without title"
      ]
     },
     "metadata": {},
     "output_type": "display_data"
    }
   ],
   "source": [
    "ggplot(theta.post.merged) +\n",
    "    aes(x=Theta, y=PostDens, color=Method) +\n",
    "    geom_line()"
   ]
  },
  {
   "cell_type": "markdown",
   "metadata": {},
   "source": [
    "The peak is in about the same point. The integrated distribution is slightly broader.  However, the pointwise estimate is very close."
   ]
  }
 ],
 "metadata": {
  "kernelspec": {
   "display_name": "R",
   "language": "R",
   "name": "ir"
  },
  "language_info": {
   "codemirror_mode": "r",
   "file_extension": ".r",
   "mimetype": "text/x-r-source",
   "name": "R",
   "pygments_lexer": "r",
   "version": "3.3.1"
  }
 },
 "nbformat": 4,
 "nbformat_minor": 0
}
